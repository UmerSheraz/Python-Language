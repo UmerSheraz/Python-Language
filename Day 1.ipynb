{
 "cells": [
  {
   "cell_type": "code",
   "execution_count": 26,
   "metadata": {},
   "outputs": [],
   "source": [
    "#lets start with variable and type of variables and Strings\n",
    "var1 = 12\n",
    "var2 = \"Joy\"\n",
    "var3 = var2 + \" and Happiness\"\n",
    "var4 = 45\n",
    "var5 = var1 + var4\n",
    "var6 = 33\n",
    "var7 = var1 + var4 + var6 + 55\n",
    "var8 = \" \"\n",
    "var9 = \"is good for health\"\n",
    "var10 = var3 + var8 + var9\n",
    "var11 = \"Hello\" + \" \" + \"World\""
   ]
  },
  {
   "cell_type": "code",
   "execution_count": 15,
   "metadata": {},
   "outputs": [
    {
     "data": {
      "text/plain": [
       "'Joy'"
      ]
     },
     "execution_count": 15,
     "metadata": {},
     "output_type": "execute_result"
    }
   ],
   "source": [
    "var2 #variable of a string"
   ]
  },
  {
   "cell_type": "code",
   "execution_count": 16,
   "metadata": {},
   "outputs": [
    {
     "data": {
      "text/plain": [
       "'Joy and Happiness'"
      ]
     },
     "execution_count": 16,
     "metadata": {},
     "output_type": "execute_result"
    }
   ],
   "source": [
    "var3 #var of sum of var of string with a string"
   ]
  },
  {
   "cell_type": "code",
   "execution_count": 17,
   "metadata": {},
   "outputs": [
    {
     "data": {
      "text/plain": [
       "57"
      ]
     },
     "execution_count": 17,
     "metadata": {},
     "output_type": "execute_result"
    }
   ],
   "source": [
    "var5 #var sum of variables which contain numbers"
   ]
  },
  {
   "cell_type": "code",
   "execution_count": 18,
   "metadata": {},
   "outputs": [
    {
     "data": {
      "text/plain": [
       "145"
      ]
     },
     "execution_count": 18,
     "metadata": {},
     "output_type": "execute_result"
    }
   ],
   "source": [
    "var7 #var of "
   ]
  },
  {
   "cell_type": "code",
   "execution_count": 21,
   "metadata": {},
   "outputs": [
    {
     "data": {
      "text/plain": [
       "'Joy and Happiness is good for health'"
      ]
     },
     "execution_count": 21,
     "metadata": {},
     "output_type": "execute_result"
    }
   ],
   "source": [
    "var10 #var of sum of varibales having different strings"
   ]
  },
  {
   "cell_type": "code",
   "execution_count": 29,
   "metadata": {},
   "outputs": [
    {
     "data": {
      "text/plain": [
       "15"
      ]
     },
     "execution_count": 29,
     "metadata": {},
     "output_type": "execute_result"
    }
   ],
   "source": [
    "#mathematical expressions (+,-,/,*,-=,+=,*=,/=,**,//,%)\n",
    "a = 3*5\n",
    "a"
   ]
  },
  {
   "cell_type": "code",
   "execution_count": 31,
   "metadata": {},
   "outputs": [
    {
     "data": {
      "text/plain": [
       "3375"
      ]
     },
     "execution_count": 31,
     "metadata": {},
     "output_type": "execute_result"
    }
   ],
   "source": [
    "a**3 # (15^3 or 15 power 3)"
   ]
  },
  {
   "cell_type": "code",
   "execution_count": 32,
   "metadata": {},
   "outputs": [
    {
     "data": {
      "text/plain": [
       "6"
      ]
     },
     "execution_count": 32,
     "metadata": {},
     "output_type": "execute_result"
    }
   ],
   "source": [
    "b = 3\n",
    "b += 3 #increment operator\n",
    "b"
   ]
  },
  {
   "cell_type": "code",
   "execution_count": 33,
   "metadata": {},
   "outputs": [
    {
     "data": {
      "text/plain": [
       "3"
      ]
     },
     "execution_count": 33,
     "metadata": {},
     "output_type": "execute_result"
    }
   ],
   "source": [
    "b -=3 #decrement operator\n",
    "b"
   ]
  },
  {
   "cell_type": "code",
   "execution_count": 34,
   "metadata": {},
   "outputs": [
    {
     "data": {
      "text/plain": [
       "3.0"
      ]
     },
     "execution_count": 34,
     "metadata": {},
     "output_type": "execute_result"
    }
   ],
   "source": [
    "b *= 3 #multiple by 3\n",
    "b /= 3 #divide by 3 wich returns float value\n",
    "b"
   ]
  },
  {
   "cell_type": "code",
   "execution_count": 37,
   "metadata": {},
   "outputs": [
    {
     "data": {
      "text/plain": [
       "7"
      ]
     },
     "execution_count": 37,
     "metadata": {},
     "output_type": "execute_result"
    }
   ],
   "source": [
    "c = 2\n",
    "a // c # // returns floor value i.e 15/2 = 7.5 (floor is 7)"
   ]
  },
  {
   "cell_type": "code",
   "execution_count": 38,
   "metadata": {},
   "outputs": [
    {
     "data": {
      "text/plain": [
       "0"
      ]
     },
     "execution_count": 38,
     "metadata": {},
     "output_type": "execute_result"
    }
   ],
   "source": [
    "d = 9%3 # modul0 (%) operator returns remainder\n",
    "d"
   ]
  },
  {
   "cell_type": "code",
   "execution_count": 45,
   "metadata": {},
   "outputs": [
    {
     "data": {
      "text/plain": [
       "1510.5"
      ]
     },
     "execution_count": 45,
     "metadata": {},
     "output_type": "execute_result"
    }
   ],
   "source": [
    "#pemdas rule for precendence of math expression i.e parenthesis,exponential,multiply,divide,addition and then substration\n",
    "x = 3+5*3-(4*5)+5**5/2-(52-2)\n",
    "x"
   ]
  },
  {
   "cell_type": "code",
   "execution_count": 49,
   "metadata": {},
   "outputs": [
    {
     "name": "stdout",
     "output_type": "stream",
     "text": [
      "Enter a number: 30\n",
      "you got it!\n"
     ]
    }
   ],
   "source": [
    "# Conditional Statements (if/else)\n",
    "num = int(input(\"Enter a number: \"))\n",
    "if num == 30:\n",
    "    print(\"you got it!\")\n",
    "else:\n",
    "    print(\"better luck next time\")"
   ]
  },
  {
   "cell_type": "code",
   "execution_count": 50,
   "metadata": {},
   "outputs": [
    {
     "name": "stdout",
     "output_type": "stream",
     "text": [
      "Enter a number: 40\n",
      "better luck next time\n"
     ]
    }
   ],
   "source": [
    "num = int(input(\"Enter a number: \"))\n",
    "if num == 30:\n",
    "    print(\"you got it!\")\n",
    "else:\n",
    "    print(\"better luck next time\")"
   ]
  },
  {
   "cell_type": "code",
   "execution_count": 5,
   "metadata": {},
   "outputs": [
    {
     "name": "stdout",
     "output_type": "stream",
     "text": [
      "Sorry! Do better next time.\n"
     ]
    }
   ],
   "source": [
    "# Single if/else statement\n",
    "obt_marks = 20\n",
    "req_marks = 30\n",
    "if obt_marks == req_marks:\n",
    "    print(\"Congratulations! you are passed.\")\n",
    "else:\n",
    "    print(\"Sorry! Do better next time.\")"
   ]
  },
  {
   "cell_type": "code",
   "execution_count": 8,
   "metadata": {},
   "outputs": [
    {
     "name": "stdout",
     "output_type": "stream",
     "text": [
      "Congratulations! you are passed.\n"
     ]
    }
   ],
   "source": [
    "# Multiple if/else statement\n",
    "obt_marks = 30\n",
    "req_marks = 30\n",
    "if obt_marks > req_marks:\n",
    "    print(\"Congratulations! you did a great job.\")\n",
    "elif obt_marks == req_marks:\n",
    "    print(\"Congratulations! you are passed.\")    \n",
    "else:\n",
    "    print(\"Sorry! Do better next time.\")"
   ]
  },
  {
   "cell_type": "code",
   "execution_count": 26,
   "metadata": {},
   "outputs": [
    {
     "name": "stdout",
     "output_type": "stream",
     "text": [
      "Invalid Username: Abeer\n"
     ]
    }
   ],
   "source": [
    "# Nested if/else statement\n",
    "name = \"Abeer\"\n",
    "obt_marks = 35\n",
    "req_marks = 30\n",
    "if name == \"Ahmed\":\n",
    "    if obt_marks > req_marks:\n",
    "        print(\"Congratulations! you did a great job.\")\n",
    "    elif obt_marks == req_marks:\n",
    "        print(\"Congratulations! you are passed.\")    \n",
    "    else:\n",
    "        print(\"Sorry! Do better next time.\")\n",
    "elif name == \"Ali\":\n",
    "    if obt_marks > req_marks:\n",
    "        print(\"Congratulations! you did a great job.\")\n",
    "    elif obt_marks == req_marks:\n",
    "        print(\"Congratulations! you are passed.\")    \n",
    "    else:\n",
    "        print(\"Sorry! Do better next time.\")\n",
    "else:\n",
    "    print(\"Invalid Username:\", name)"
   ]
  },
  {
   "cell_type": "code",
   "execution_count": 30,
   "metadata": {},
   "outputs": [
    {
     "name": "stdout",
     "output_type": "stream",
     "text": [
      "Cogratulations!\n"
     ]
    }
   ],
   "source": [
    "# shorthand if/else statements or conditional statements compehension\n",
    "a = 10\n",
    "b = 20\n",
    "c = 30\n",
    "if a <= b: print(\"Cogratulations!\") "
   ]
  },
  {
   "cell_type": "code",
   "execution_count": 31,
   "metadata": {},
   "outputs": [
    {
     "name": "stdout",
     "output_type": "stream",
     "text": [
      "Sorry\n"
     ]
    }
   ],
   "source": [
    "a = 10\n",
    "b = 20\n",
    "c = 30\n",
    "print(\"Cogratulations!\") if a>=b else print(\"Sorry\")"
   ]
  },
  {
   "cell_type": "code",
   "execution_count": 33,
   "metadata": {},
   "outputs": [
    {
     "name": "stdout",
     "output_type": "stream",
     "text": [
      "Sorry\n"
     ]
    }
   ],
   "source": [
    "# example with logical operators (and/or)\n",
    "a = 10\n",
    "b = 20\n",
    "c = 30\n",
    "print(\"Cogratulations!\") if a<=b and b==c  else print(\"Sorry\")"
   ]
  },
  {
   "cell_type": "code",
   "execution_count": 42,
   "metadata": {},
   "outputs": [
    {
     "name": "stdout",
     "output_type": "stream",
     "text": [
      "Cogratulations!\n"
     ]
    }
   ],
   "source": [
    "a = 10\n",
    "b = 20\n",
    "c = 30\n",
    "print(\"Cogratulations!\") if a<=b or b==c  else print(\"Sorry\")"
   ]
  },
  {
   "cell_type": "code",
   "execution_count": null,
   "metadata": {},
   "outputs": [],
   "source": []
  }
 ],
 "metadata": {
  "kernelspec": {
   "display_name": "Python 3",
   "language": "python",
   "name": "python3"
  },
  "language_info": {
   "codemirror_mode": {
    "name": "ipython",
    "version": 3
   },
   "file_extension": ".py",
   "mimetype": "text/x-python",
   "name": "python",
   "nbconvert_exporter": "python",
   "pygments_lexer": "ipython3",
   "version": "3.7.3"
  }
 },
 "nbformat": 4,
 "nbformat_minor": 2
}
